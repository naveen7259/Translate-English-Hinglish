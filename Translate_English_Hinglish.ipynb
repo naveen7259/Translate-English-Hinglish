{
  "nbformat": 4,
  "nbformat_minor": 0,
  "metadata": {
    "colab": {
      "provenance": [],
      "authorship_tag": "ABX9TyNzSOglAp1CVyoUb5jmSo61",
      "include_colab_link": true
    },
    "kernelspec": {
      "name": "python3",
      "display_name": "Python 3"
    },
    "language_info": {
      "name": "python"
    }
  },
  "cells": [
    {
      "cell_type": "markdown",
      "metadata": {
        "id": "view-in-github",
        "colab_type": "text"
      },
      "source": [
        "<a href=\"https://colab.research.google.com/github/naveen7259/Translate-English-Hinglish/blob/main/Translate_English_Hinglish.ipynb\" target=\"_parent\"><img src=\"https://colab.research.google.com/assets/colab-badge.svg\" alt=\"Open In Colab\"/></a>"
      ]
    },
    {
      "cell_type": "code",
      "execution_count": 16,
      "metadata": {
        "colab": {
          "base_uri": "https://localhost:8080/"
        },
        "id": "lJV_08GjNmdP",
        "outputId": "221443ef-f1c1-4127-d4e4-69d442b6bd30"
      },
      "outputs": [
        {
          "output_type": "stream",
          "name": "stdout",
          "text": [
            "Requirement already satisfied: nltk in /usr/local/lib/python3.10/dist-packages (3.8.1)\n",
            "Requirement already satisfied: click in /usr/local/lib/python3.10/dist-packages (from nltk) (8.1.7)\n",
            "Requirement already satisfied: joblib in /usr/local/lib/python3.10/dist-packages (from nltk) (1.3.2)\n",
            "Requirement already satisfied: regex>=2021.8.3 in /usr/local/lib/python3.10/dist-packages (from nltk) (2023.6.3)\n",
            "Requirement already satisfied: tqdm in /usr/local/lib/python3.10/dist-packages (from nltk) (4.66.1)\n",
            "Requirement already satisfied: googletrans==4.0.0-rc1 in /usr/local/lib/python3.10/dist-packages (4.0.0rc1)\n",
            "Requirement already satisfied: httpx==0.13.3 in /usr/local/lib/python3.10/dist-packages (from googletrans==4.0.0-rc1) (0.13.3)\n",
            "Requirement already satisfied: certifi in /usr/local/lib/python3.10/dist-packages (from httpx==0.13.3->googletrans==4.0.0-rc1) (2023.7.22)\n",
            "Requirement already satisfied: hstspreload in /usr/local/lib/python3.10/dist-packages (from httpx==0.13.3->googletrans==4.0.0-rc1) (2023.1.1)\n",
            "Requirement already satisfied: sniffio in /usr/local/lib/python3.10/dist-packages (from httpx==0.13.3->googletrans==4.0.0-rc1) (1.3.0)\n",
            "Requirement already satisfied: chardet==3.* in /usr/local/lib/python3.10/dist-packages (from httpx==0.13.3->googletrans==4.0.0-rc1) (3.0.4)\n",
            "Requirement already satisfied: idna==2.* in /usr/local/lib/python3.10/dist-packages (from httpx==0.13.3->googletrans==4.0.0-rc1) (2.10)\n",
            "Requirement already satisfied: rfc3986<2,>=1.3 in /usr/local/lib/python3.10/dist-packages (from httpx==0.13.3->googletrans==4.0.0-rc1) (1.5.0)\n",
            "Requirement already satisfied: httpcore==0.9.* in /usr/local/lib/python3.10/dist-packages (from httpx==0.13.3->googletrans==4.0.0-rc1) (0.9.1)\n",
            "Requirement already satisfied: h11<0.10,>=0.8 in /usr/local/lib/python3.10/dist-packages (from httpcore==0.9.*->httpx==0.13.3->googletrans==4.0.0-rc1) (0.9.0)\n",
            "Requirement already satisfied: h2==3.* in /usr/local/lib/python3.10/dist-packages (from httpcore==0.9.*->httpx==0.13.3->googletrans==4.0.0-rc1) (3.2.0)\n",
            "Requirement already satisfied: hyperframe<6,>=5.2.0 in /usr/local/lib/python3.10/dist-packages (from h2==3.*->httpcore==0.9.*->httpx==0.13.3->googletrans==4.0.0-rc1) (5.2.0)\n",
            "Requirement already satisfied: hpack<4,>=3.0 in /usr/local/lib/python3.10/dist-packages (from h2==3.*->httpcore==0.9.*->httpx==0.13.3->googletrans==4.0.0-rc1) (3.0.0)\n"
          ]
        }
      ],
      "source": [
        "# Install the required libraries.\n",
        "!pip install nltk                    # Install the Natural Language Toolkit library.\n",
        "!pip install googletrans==4.0.0-rc1  # Install the googletrans library version 4.0.0-rc1."
      ]
    },
    {
      "cell_type": "code",
      "source": [
        "# Import required modules and functions.\n",
        "import re     #Import regular expression module.\n",
        "import nltk   #Import natural language processing library.\n",
        "from nltk import pos_tag, word_tokenize   #Import parts of speech tag(pos_tag) and word_tokenizer.\n",
        "from googletrans import Translator    #Import translator class."
      ],
      "metadata": {
        "id": "kyeOFjnXNt9x"
      },
      "execution_count": 17,
      "outputs": []
    },
    {
      "cell_type": "code",
      "source": [
        "# Download the 'punkt' & 'averaged_perceptron_tagger' datasets for NLTK.\n",
        "nltk.download('punkt')\n",
        "nltk.download('averaged_perceptron_tagger')"
      ],
      "metadata": {
        "colab": {
          "base_uri": "https://localhost:8080/"
        },
        "id": "E8og5BN1OAtV",
        "outputId": "46b30af4-f027-4c25-93c2-11d0e2ea0dc3"
      },
      "execution_count": 18,
      "outputs": [
        {
          "output_type": "stream",
          "name": "stderr",
          "text": [
            "[nltk_data] Downloading package punkt to /root/nltk_data...\n",
            "[nltk_data]   Package punkt is already up-to-date!\n",
            "[nltk_data] Downloading package averaged_perceptron_tagger to\n",
            "[nltk_data]     /root/nltk_data...\n",
            "[nltk_data]   Package averaged_perceptron_tagger is already up-to-\n",
            "[nltk_data]       date!\n"
          ]
        },
        {
          "output_type": "execute_result",
          "data": {
            "text/plain": [
              "True"
            ]
          },
          "metadata": {},
          "execution_count": 18
        }
      ]
    },
    {
      "cell_type": "code",
      "source": [
        "# Function to find nouns in a sentence.\n",
        "def find_nouns(sentence):\n",
        "    words = word_tokenize(sentence)   # Tokenize the sentence to words.\n",
        "    tags = pos_tag(words)       # Assign the part-of-speech tags to each word.\n",
        "    nouns = [word for word, tag in tags if tag in ['NN', 'NNS', 'NNP', 'NNPS']] # Extract nouns from the tagged words.\n",
        "\n",
        "    return nouns"
      ],
      "metadata": {
        "id": "fO_tZ7a1OGAE"
      },
      "execution_count": 20,
      "outputs": []
    },
    {
      "cell_type": "code",
      "source": [
        "# Function to translate English text to Hindi.\n",
        "def translate_to_hindi(text):\n",
        "    translator = Translator()   # Calling Translator object.\n",
        "    translation = translator.translate(text, src='en', dest='hi') # Translate text to hindi and store in translation.\n",
        "    return translation.text\n"
      ],
      "metadata": {
        "id": "MEilmZQZOKwJ"
      },
      "execution_count": 21,
      "outputs": []
    },
    {
      "cell_type": "code",
      "source": [
        "# Function to replace nouns in a Hindi sentence with their English counterparts.\n",
        "def replace_nouns_with_english(hindi_sentence, english_sentence, retain_english_nouns=False):\n",
        "    # Find nouns in the English sentence.\n",
        "    english_nouns = find_nouns(english_sentence)\n",
        "\n",
        "    # Translate the English nouns to Hindi.\n",
        "    translated_nouns = [translate_to_hindi(noun) for noun in english_nouns]\n",
        "\n",
        "    # Create a dictionary to map translated nouns to their English counterparts.\n",
        "    noun_mapping = {translated: original for original, translated in zip(english_nouns, translated_nouns)}\n",
        "\n",
        "    # Replace nouns in the Hindi sentence with their English counterparts, if not retaining English nouns.\n",
        "    for hindi_noun, english_noun in noun_mapping.items():\n",
        "        if not retain_english_nouns:\n",
        "            hindi_sentence = hindi_sentence.replace(hindi_noun, english_noun)\n",
        "\n",
        "    return hindi_sentence"
      ],
      "metadata": {
        "id": "oV4GySXQOa33"
      },
      "execution_count": 24,
      "outputs": []
    },
    {
      "cell_type": "code",
      "source": [
        "#Test for the given sentences\n",
        "sentences = [ \"Definitely share your feedback in the comment section.\",     #Enter the set of sentences\n",
        "              \"So even if it's a big video, I will clearly mention all the products.\",\n",
        "              \"I was waiting for my bag.\"\n",
        "            ]\n",
        "for sentence in sentences:\n",
        "  hindi_translation = translate_to_hindi(sentence)    #Convert english sentence into hindi\n",
        "\n",
        "  result_sentence = replace_nouns_with_english(hindi_translation, sentence)   #Replace nouns with english\n",
        "  print(\"Hinglish Sentence:\", result_sentence)"
      ],
      "metadata": {
        "colab": {
          "base_uri": "https://localhost:8080/"
        },
        "id": "kuO95Bo2WTis",
        "outputId": "a4c7d7c7-75a6-46cb-8926-67d9036a57ca"
      },
      "execution_count": 31,
      "outputs": [
        {
          "output_type": "stream",
          "name": "stdout",
          "text": [
            "Hinglish Sentence: निश्चित रूप से comment section में अपनी feedback साझा करें।\n",
            "Hinglish Sentence: तो भले ही यह एक बड़ा video है, मैं स्पष्ट रूप से सभी products का उल्लेख करूंगा।\n",
            "Hinglish Sentence: मैं अपने बैग का इंतजार कर रहा था।\n"
          ]
        }
      ]
    },
    {
      "cell_type": "code",
      "source": [
        "# Test the function by taking input from user.\n",
        "sentence = input(\"English Statement: \")\n",
        "hindi_translation = translate_to_hindi(sentence)\n",
        "result_sentence = replace_nouns_with_english(hindi_translation, sentence)\n",
        "\n",
        "print(\"Output in Hinglish:\", result_sentence)"
      ],
      "metadata": {
        "colab": {
          "base_uri": "https://localhost:8080/"
        },
        "id": "1WacXGRqOfVA",
        "outputId": "83701bad-6416-486e-d503-8e8953bc1bc2"
      },
      "execution_count": 29,
      "outputs": [
        {
          "output_type": "stream",
          "name": "stdout",
          "text": [
            "English Statement: I was waiting for my bag\n",
            "Output in Hinglish: मैं अपने बैग का इंतजार कर रहा था\n"
          ]
        }
      ]
    },
    {
      "cell_type": "code",
      "source": [],
      "metadata": {
        "id": "Itl84cEZP41H"
      },
      "execution_count": 14,
      "outputs": []
    }
  ]
}